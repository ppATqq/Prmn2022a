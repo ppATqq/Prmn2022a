{
  "nbformat": 4,
  "nbformat_minor": 0,
  "metadata": {
    "colab": {
      "provenance": []
    },
    "kernelspec": {
      "name": "python3",
      "display_name": "Python 3"
    },
    "language_info": {
      "name": "python"
    }
  },
  "cells": [
    {
      "cell_type": "markdown",
      "source": [
        "<a href=\"https://colab.research.google.com/github/kiryu-3/Prmn2023/blob/main/Python/Python_Basic/question/PythonBasic_4_Question.ipynb\" target=\"_parent\"><img src=\"https://colab.research.google.com/assets/colab-badge.svg\" alt=\"Open In Colab\"/></a>"
      ],
      "metadata": {
        "id": "TA5kKi-LY1xg"
      }
    },
    {
      "cell_type": "markdown",
      "source": [
        "# 第4章 課題"
      ],
      "metadata": {
        "id": "r-kcfL2yEU8b"
      }
    },
    {
      "cell_type": "markdown",
      "source": [
        "## 課題1"
      ],
      "metadata": {
        "id": "UqgRlaNaaWsU"
      }
    },
    {
      "cell_type": "markdown",
      "source": [
        "10から2800まで、10飛ばしの数を乱数で生成し、2220000に足してください。  \n",
        "\n",
        "この数を5つ生成し、一つのリストに格納した後、最終的に頭に\"b\"をつけて5つ出力してください。"
      ],
      "metadata": {
        "id": "dMngS2Dtai7U"
      }
    },
    {
      "cell_type": "markdown",
      "source": [
        "＜実行結果例＞\n",
        "``` py  \n",
        "['b2220400', 'b2221750', 'b2222480', 'b2221720', 'b2220380']\n",
        "```"
      ],
      "metadata": {
        "id": "Ys4Y3shObw3w"
      }
    },
    {
      "cell_type": "code",
      "source": [
        "# 入力用\n",
        "import random\n",
        "\n",
        "x = []\n",
        "y = []\n",
        "\n",
        "for i in range(5):\n",
        "  a = 2220000 + random.randint(1,280)*10\n",
        "  x.append(a)\n",
        "\n",
        "for i in range(5):\n",
        "  y.append('b' + str(x[i])) \n",
        "\n",
        "print(x)\n",
        "print(y)\n",
        "\n",
        "# for i in range(5):\n",
        "#   a = 2220000 + random.randint(1,280)*10\n",
        "#   y = 'b' + str(a)\n",
        "#   x.append(y)"
      ],
      "metadata": {
        "id": "UaBFEY3Hdbsg",
        "outputId": "6f5efcec-92c4-4faa-e633-fbd33180e0a0",
        "colab": {
          "base_uri": "https://localhost:8080/"
        }
      },
      "execution_count": 5,
      "outputs": [
        {
          "output_type": "stream",
          "name": "stdout",
          "text": [
            "[2220610, 2220340, 2221960, 2220880, 2220430]\n",
            "['b2220610', 'b2220340', 'b2221960', 'b2220880', 'b2220430']\n"
          ]
        }
      ]
    },
    {
      "cell_type": "markdown",
      "source": [
        "## 課題2"
      ],
      "metadata": {
        "id": "yRsfay5_8FuJ"
      }
    },
    {
      "cell_type": "markdown",
      "source": [
        "1桁の自然数を乱数を使って5つ格納した2つのリストを作ってください。  \n",
        "この時、一つのリスト内で5つの値が重複しないようにしてください\n",
        "\n",
        "その後、対応する要素を足し合わせた新しいリストを出力してください"
      ],
      "metadata": {
        "id": "4WbYBFGr8Ht3"
      }
    },
    {
      "cell_type": "markdown",
      "source": [
        "＜実行結果例＞\n",
        "``` py  \n",
        "1つ目のリスト：[1, 2, 3, 4, 5]  \n",
        "2つ目のリスト：[1, 3, 5, 7, 9]  \n",
        "足し合わせたリスト：[2, 5, 8, 11, 14]\n",
        "```"
      ],
      "metadata": {
        "id": "A0ImPPha84Nb"
      }
    },
    {
      "cell_type": "code",
      "source": [
        "import random\n",
        "\n",
        "a = random.sample(range(1,10),k=5)\n",
        "b = random.sample(range(1,10),k=5)\n",
        "c =[]\n",
        "\n",
        "for i in range(5):\n",
        "  c.append(a[i] + b[i])\n",
        "\n",
        "print(a)\n",
        "print(b)\n",
        "print(c)"
      ],
      "metadata": {
        "id": "TaJm8jn2MHmk",
        "outputId": "a7232fa4-6fd7-4f44-e71e-f6931b70c9d8",
        "colab": {
          "base_uri": "https://localhost:8080/"
        }
      },
      "execution_count": 30,
      "outputs": [
        {
          "output_type": "stream",
          "name": "stdout",
          "text": [
            "[3, 5, 7, 4, 1]\n",
            "[5, 9, 8, 7, 2]\n",
            "[8, 14, 15, 11, 3]\n"
          ]
        }
      ]
    },
    {
      "cell_type": "markdown",
      "source": [
        "## 課題3"
      ],
      "metadata": {
        "id": "-qZw_n3X8xrW"
      }
    },
    {
      "cell_type": "markdown",
      "source": [
        "リストの中身を指定した数で分割してみます。\n",
        "\n",
        "以下のリストには都道府県47つが格納されています。"
      ],
      "metadata": {
        "id": "vxwATeobQf_U"
      }
    },
    {
      "cell_type": "code",
      "source": [
        "todohuken_list = [\n",
        "    '北海道', '青森県', '岩手県', '宮城県', '秋田県', '山形県', '福島県', '茨城県', '栃木県', '群馬県', \n",
        "    '埼玉県', '千葉県', '東京都', '神奈川県', '新潟県', '富山県', '石川県', '福井県', '山梨県', '長野県', \n",
        "    '岐阜県', '静岡県', '愛知県', '三重県', '滋賀県', '京都府', '大阪府', '兵庫県', '奈良県', '和歌山県', \n",
        "    '鳥取県', '島根県', '岡山県', '広島県', '山口県', '徳島県', '香川県', '愛媛県', '高知県',  '福岡県', \n",
        "    '佐賀県', '長崎県', '熊本県', '大分県', '宮崎県', '鹿児島県', '沖縄県',\n",
        "]"
      ],
      "metadata": {
        "id": "8ZdyRWbERGAY"
      },
      "execution_count": 31,
      "outputs": []
    },
    {
      "cell_type": "markdown",
      "source": [
        "  \n",
        "これをランダムに1つのリストのサイズを4として分割してください"
      ],
      "metadata": {
        "id": "tGPa1uU6Qs2c"
      }
    },
    {
      "cell_type": "markdown",
      "source": [
        "＜実行結果例＞  \n",
        "``` py \n",
        "[['宮崎県', '茨城県', '栃木県', '千葉県'], … , ['岩手県', '滋賀県', '宮城県']]\n",
        "```"
      ],
      "metadata": {
        "id": "PWLTwz0TXzm_"
      }
    },
    {
      "cell_type": "code",
      "source": [
        "# 入力用\n",
        "import random\n",
        "\n",
        "random.shuffle(todohuken_list)\n",
        "\n",
        "a = []\n",
        "\n",
        "for i in range(12):\n",
        "  data = todohuken_list[4*i:4*(i+1)]\n",
        "  a.append(data)\n",
        "  \n",
        "print(a)"
      ],
      "metadata": {
        "id": "rgPlOseCTC_h",
        "outputId": "f86ac416-26e7-4bda-c504-02d1f678e783",
        "colab": {
          "base_uri": "https://localhost:8080/"
        }
      },
      "execution_count": 35,
      "outputs": [
        {
          "output_type": "stream",
          "name": "stdout",
          "text": [
            "[['神奈川県', '茨城県', '沖縄県', '大阪府'], ['島根県', '埼玉県', '群馬県', '福島県'], ['兵庫県', '熊本県', '青森県', '香川県'], ['大分県', '富山県', '千葉県', '岩手県'], ['山形県', '和歌山県', '広島県', '石川県'], ['奈良県', '愛媛県', '岐阜県', '鳥取県'], ['東京都', '岡山県', '福井県', '山梨県'], ['栃木県', '新潟県', '宮崎県', '静岡県'], ['鹿児島県', '京都府', '三重県', '愛知県'], ['長野県', '高知県', '北海道', '秋田県'], ['宮城県', '福岡県', '徳島県', '山口県'], ['滋賀県', '佐賀県', '長崎県']]\n"
          ]
        }
      ]
    },
    {
      "cell_type": "markdown",
      "source": [
        "## 課題4"
      ],
      "metadata": {
        "id": "W573lh39MOlj"
      }
    },
    {
      "cell_type": "markdown",
      "source": [
        "ある大学の名前と年齢が、次のような形式で格納されたリスト `university_list` があります。"
      ],
      "metadata": {
        "id": "sSIMKY-aNcIx"
      }
    },
    {
      "cell_type": "code",
      "source": [
        "university_list = [\n",
        "    \"Chitose,25\",\n",
        "    \"Hokudai,105\",\n",
        "    \"Muroran,74\",\n",
        "    \"Hakodate,23\",\n",
        "]"
      ],
      "metadata": {
        "id": "v-wGyWuKK3wl"
      },
      "execution_count": 2,
      "outputs": []
    },
    {
      "cell_type": "markdown",
      "source": [
        "このリストを、年齢順にソートして、新たなリストとして出力してください"
      ],
      "metadata": {
        "id": "XIxDf9QgO1iH"
      }
    },
    {
      "cell_type": "markdown",
      "source": [
        "＜実行結果＞  \n",
        "``` py\n",
        "['Chitose,25', 'Hokudai,105', 'Muroran,74', 'Hakodate,23']\n",
        "['Hakodate,23', 'Chitose,25', 'Muroran,74', 'Hokudai,105']\n",
        "```"
      ],
      "metadata": {
        "id": "0Z2-_1dAQENU"
      }
    },
    {
      "cell_type": "code",
      "source": [
        "print(university_list)\n",
        "\n",
        "a = []\n",
        "list1 = [0,0,0,0]\n",
        "\n",
        "for i in range(4):\n",
        "  a.append(int(university_list[i].split(\",\")[1]))\n",
        "\n",
        "a.sort()\n",
        "print(a)\n",
        "\n",
        "for i in range(4):\n",
        "  if a[0] == int(university_list[i].split(\",\")[1]):\n",
        "    list1.insert(0, university_list[i])\n",
        "  elif a[1] == int(university_list[i].split(\",\")[1]):\n",
        "    list1.insert(1,university_list[i])\n",
        "  elif a[2] == int(university_list[i].split(\",\")[1]):\n",
        "    list1.insert(2,university_list[i])\n",
        "  elif a[3] == int(university_list[i].split(\",\")[1]):\n",
        "    list1.insert(3,university_list[i])\n",
        "  \n",
        "list2 = [i for i in list1 if i != 0]\n",
        "print(list2)"
      ],
      "metadata": {
        "id": "ficNVfkgR5Kv",
        "outputId": "c0fdc60b-5f99-49ac-d86a-109a640152a6",
        "colab": {
          "base_uri": "https://localhost:8080/"
        }
      },
      "execution_count": 11,
      "outputs": [
        {
          "output_type": "stream",
          "name": "stdout",
          "text": [
            "['Chitose,25', 'Hokudai,105', 'Muroran,74', 'Hakodate,23']\n",
            "[23, 25, 74, 105]\n",
            "['Hakodate,23', 'Chitose,25', 'Muroran,74', 'Hokudai,105']\n"
          ]
        }
      ]
    },
    {
      "cell_type": "markdown",
      "source": [
        "## 課題5"
      ],
      "metadata": {
        "id": "QijnXk7UWAVC"
      }
    },
    {
      "cell_type": "markdown",
      "source": [
        "**FizzBuzz（フィズ・バズ）問題**という問題について解いていきます。\n",
        "\n",
        "もともとは、英語圏で長距離ドライブ中や飲み会の時に行われる言葉遊びです。"
      ],
      "metadata": {
        "id": "m7F47Q1mWCA6"
      }
    },
    {
      "cell_type": "markdown",
      "source": [
        "以下のような問題になります。\n",
        "\n",
        "1～Nまでの整数を順に出力しなさい。ただし、例外として以下のルールを守ること。\n",
        "\n",
        "* 3で割り切れる数字の場合は\"Fizz\"を出力\n",
        "* 5で割り切れる数字の場合は\"Buzz\"を出力\n",
        "* どちらでも割り切れる数字の場合は\"FizzBuzz\"を出力"
      ],
      "metadata": {
        "id": "fArw0VcNWgwZ"
      }
    },
    {
      "cell_type": "markdown",
      "source": [
        "ここではN=100として、まずは一つのリストに\n",
        "\"Fizz\" か \"Buzz\" か \"FizzBuzz\" か \"others\" を格納してください。\n",
        "\n",
        "その後、それぞれの要素の数をカウントしてください。"
      ],
      "metadata": {
        "id": "SYqkpYstWm7Z"
      }
    },
    {
      "cell_type": "markdown",
      "source": [
        "＜実行結果＞  \n",
        "``` py\n",
        "FizzBuzzの数：6 \n",
        "Fizzの数：27 \n",
        "Buzzの数：14\n",
        "othersの数：53  \n",
        "```"
      ],
      "metadata": {
        "id": "OqLuJTcWYzFt"
      }
    },
    {
      "cell_type": "code",
      "source": [
        "N = 100\n",
        "\n",
        "Fizz =[]\n",
        "Buzz =[]\n",
        "FizzBuzz = []\n",
        "others = []\n",
        "\n",
        "for i in range(1,N+1):\n",
        "  if i%3 == 0 and i%5 == 0:\n",
        "    FizzBuzz.append(i)\n",
        "  elif i%3 == 0:\n",
        "    Fizz.append(i)\n",
        "  elif i%5 == 0:\n",
        "    Buzz.append(i)\n",
        "  else:\n",
        "    others.append(i)\n",
        "\n",
        "print(f\"FizzBuzzの数 : {len(FizzBuzz)}\")\n",
        "print(f\"Fizzの数 : {len(Fizz)}\")\n",
        "print(f\"Buzzの数 : {len(Buzz)}\")\n",
        "print(f\"othersの数 : {len(others)}\")"
      ],
      "metadata": {
        "id": "5kEDaVLmaEpb",
        "outputId": "a89becf5-e0d2-4c36-a41b-5db2db8f3a39",
        "colab": {
          "base_uri": "https://localhost:8080/"
        }
      },
      "execution_count": 55,
      "outputs": [
        {
          "output_type": "stream",
          "name": "stdout",
          "text": [
            "FizzBuzzの数 : 6\n",
            "Fizzの数 : 27\n",
            "Buzzの数 : 14\n",
            "othersの数 : 53\n"
          ]
        }
      ]
    }
  ]
}